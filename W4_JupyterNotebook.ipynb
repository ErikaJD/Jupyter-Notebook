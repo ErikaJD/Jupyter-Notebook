{
  "metadata": {
    "kernelspec": {
      "name": "python",
      "display_name": "Pyolite",
      "language": "python"
    },
    "language_info": {
      "codemirror_mode": {
        "name": "python",
        "version": 3
      },
      "file_extension": ".py",
      "mimetype": "text/x-python",
      "name": "python",
      "nbconvert_exporter": "python",
      "pygments_lexer": "ipython3",
      "version": "3.8"
    }
  },
  "nbformat_minor": 4,
  "nbformat": 4,
  "cells": [
    {
      "cell_type": "markdown",
      "source": "<center>\n    <img src=\"https://cf-courses-data.s3.us.cloud-object-storage.appdomain.cloud/IBMDeveloperSkillsNetwork-DS0105EN-SkillsNetwork/labs/Module2/images/SN_web_lightmode.png\" width=\"300\" alt=\"cognitiveclass.ai logo\">\n</center>\n",
      "metadata": {}
    },
    {
      "cell_type": "markdown",
      "source": "#### Add your code below following the instructions given in the course\n",
      "metadata": {}
    },
    {
      "cell_type": "markdown",
      "source": "# My Jupyter Notebook on IBM Watson Studio",
      "metadata": {}
    },
    {
      "cell_type": "markdown",
      "source": "**Erika Jobette M. Del Mundo**\n\nData Scientist",
      "metadata": {
        "tags": []
      }
    },
    {
      "cell_type": "markdown",
      "source": "*I am interested in data science because I am a natural problem solver who wants to provide solutions to everyday problems to improve the overall quality of life. It would be a pleasure to offer my expertise and services to companies who are aligned with my philosophy and values.*",
      "metadata": {}
    },
    {
      "cell_type": "markdown",
      "source": "### In the next cell, I will show a simple mathematical operation, where I will add two numbers: 5 and 7. ###",
      "metadata": {}
    },
    {
      "cell_type": "code",
      "source": "five = 5\nseven = 7\nprint (five + seven)",
      "metadata": {
        "trusted": true
      },
      "execution_count": 2,
      "outputs": [
        {
          "name": "stdout",
          "text": "12\n",
          "output_type": "stream"
        }
      ]
    },
    {
      "cell_type": "markdown",
      "source": "*****\n**Grocery List**\n\n|To buy | Quantity | Price |\n|-------|:--------:|:-----:|\n|apples | *5 pieces*| `$2` |\n|broccoli| *1 kilo* | `$3`|\n|blueberry|*1/2 kilo*| `$2.5`|\n|orange juice|*2 liters*| `$4`|\n\n[Snack Prices @ Costco](https://hip2save.com/wp-content/uploads/2019/05/costco-food-court-menu.jpg?resize=1024%2C538&strip=all?w=1200&strip=all)",
      "metadata": {}
    }
  ]
}